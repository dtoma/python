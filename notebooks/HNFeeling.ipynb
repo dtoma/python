{
 "cells": [
  {
   "cell_type": "code",
   "execution_count": 122,
   "metadata": {
    "collapsed": false
   },
   "outputs": [],
   "source": [
    "from __future__ import print_function\n",
    "import requests\n",
    "from textblob import TextBlob\n",
    "from bs4 import BeautifulSoup\n",
    "from collections import namedtuple"
   ]
  },
  {
   "cell_type": "code",
   "execution_count": 144,
   "metadata": {
    "collapsed": false,
    "scrolled": true
   },
   "outputs": [],
   "source": [
    "sentiment = namedtuple('Sentiment', ['feel', 'title'])\n",
    "\n",
    "def get_page_sentiment(page_content):\n",
    "    soup = BeautifulSoup(page_content)\n",
    "    stuff = soup.find_all('tr', {'class': 'athing'})\n",
    "    title = ''.join([c for c in stuff[0].strings if c not in [' ', '\\n', '\\t']])\n",
    "\n",
    "    sentiments = []\n",
    "\n",
    "    for x in stuff[1:]:\n",
    "        comment = [c for c in x.strings if c not in [' ', '\\n', '\\t']]\n",
    "        author = comment[0]\n",
    "        time = comment[1]\n",
    "        content = ''.join(comment[2:-1])\n",
    "        reply = comment[-1]\n",
    "        blob = TextBlob(content)\n",
    "        for sentence in blob.sentences:\n",
    "            sentiments.append(sentence.sentiment.polarity)\n",
    "\n",
    "    return sentiment(sum(sentiments) / (len(stuff) - 1), title)"
   ]
  },
  {
   "cell_type": "code",
   "execution_count": 145,
   "metadata": {
    "collapsed": true
   },
   "outputs": [],
   "source": [
    "def print_sentiment(page_url):\n",
    "    page_content = requests.get(page_url).text\n",
    "    feel, title = get_page_sentiment(page_content)\n",
    "    print('{}: {}'.format(title, feel))"
   ]
  },
  {
   "cell_type": "code",
   "execution_count": 146,
   "metadata": {
    "collapsed": false
   },
   "outputs": [
    {
     "name": "stdout",
     "output_type": "stream",
     "text": [
      "Futures for C++11 at Facebook (facebook.com): 0.283122202656\n"
     ]
    }
   ],
   "source": [
    "print_sentiment('https://news.ycombinator.com/item?id=9746405')"
   ]
  },
  {
   "cell_type": "code",
   "execution_count": 147,
   "metadata": {
    "collapsed": false
   },
   "outputs": [
    {
     "name": "stdout",
     "output_type": "stream",
     "text": [
      "C++11/14/17 Features in VS 2015 RTM (msdn.com): 0.255476934524\n"
     ]
    }
   ],
   "source": [
    "print_sentiment('https://news.ycombinator.com/item?id=9746866')"
   ]
  },
  {
   "cell_type": "code",
   "execution_count": 148,
   "metadata": {
    "collapsed": false
   },
   "outputs": [
    {
     "name": "stdout",
     "output_type": "stream",
     "text": [
      "C Traps and Pitfalls (1988) [pdf] (literateprogramming.com): 0.08359375\n"
     ]
    }
   ],
   "source": [
    "print_sentiment('https://news.ycombinator.com/item?id=9746846')"
   ]
  },
  {
   "cell_type": "code",
   "execution_count": null,
   "metadata": {
    "collapsed": true
   },
   "outputs": [],
   "source": []
  }
 ],
 "metadata": {
  "kernelspec": {
   "display_name": "Python 2",
   "language": "python",
   "name": "python2"
  },
  "language_info": {
   "codemirror_mode": {
    "name": "ipython",
    "version": 2
   },
   "file_extension": ".py",
   "mimetype": "text/x-python",
   "name": "python",
   "nbconvert_exporter": "python",
   "pygments_lexer": "ipython2",
   "version": "2.7.10"
  }
 },
 "nbformat": 4,
 "nbformat_minor": 0
}
